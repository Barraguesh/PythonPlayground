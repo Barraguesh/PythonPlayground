{
 "cells": [
  {
   "cell_type": "markdown",
   "metadata": {},
   "source": [
    "Given an array of integers, calculate the ratios of its elements that are positive, negative, and zero. Print the decimal value of each fraction on a new line with places after the decimal."
   ]
  },
  {
   "cell_type": "code",
   "execution_count": 19,
   "metadata": {},
   "outputs": [
    {
     "name": "stdout",
     "output_type": "stream",
     "text": [
      "0.500000\n",
      "0.333333\n",
      "0.166667\n"
     ]
    }
   ],
   "source": [
    "def plus_minus(arr):\n",
    "    positive, negative, zero = 0, 0, 0\n",
    "    arr_total = len(arr)\n",
    "    \n",
    "    for x in arr:\n",
    "        if x > 0:\n",
    "            positive+=1\n",
    "        elif x == 0:\n",
    "            negative+=1\n",
    "        else:\n",
    "            zero+=1\n",
    "            \n",
    "    print(f\"{format(round(positive/arr_total, 6), '.6f')}\")\n",
    "    print(f\"{format(round(zero/arr_total, 6), '.6f')}\")\n",
    "    print(f\"{format(round(negative/arr_total, 6), '.6f')}\")\n",
    "\n",
    "#Test\n",
    "plus_minus([-4, 3, -9, 0, 4, 1])"
   ]
  },
  {
   "cell_type": "markdown",
   "metadata": {},
   "source": [
    "Given five positive integers, find the minimum and maximum values that can be calculated by summing exactly four of the five integers. Then print the respective minimum and maximum values as a single line of two space-separated long integers. "
   ]
  },
  {
   "cell_type": "code",
   "execution_count": 20,
   "metadata": {},
   "outputs": [
    {
     "name": "stdout",
     "output_type": "stream",
     "text": [
      "16 24\n"
     ]
    }
   ],
   "source": [
    "def mini_maxSum(arr):\n",
    "    #Variables initialized\n",
    "    max_sum = 0\n",
    "    min_sum = 0\n",
    "    \n",
    "    max_value = arr[0]\n",
    "    min_value = arr[0]\n",
    "    \n",
    "    #Get max and min values\n",
    "    for num in arr:\n",
    "        if num > max_value:\n",
    "            max_value = num\n",
    "        if num < min_value:\n",
    "            min_value = num   \n",
    "                \n",
    "    #Calculate both max and min sums\n",
    "    for x in arr:\n",
    "        if x != min_value:\n",
    "            max_sum = max_sum + x\n",
    "        if x != max_value:\n",
    "            min_sum = min_sum + x\n",
    "        if min_value == max_value:\n",
    "            min_sum = min_value * 4\n",
    "            max_sum = max_value * 4\n",
    "    \n",
    "    print(f\"{min_sum} {max_sum}\")\n",
    "    \n",
    "#Test\n",
    "mini_maxSum([1, 3, 5, 7, 9])"
   ]
  },
  {
   "cell_type": "markdown",
   "metadata": {},
   "source": [
    "Given a time in 12-hour AM/PM format, convert it to military (24-hour) time. "
   ]
  },
  {
   "cell_type": "code",
   "execution_count": 21,
   "metadata": {},
   "outputs": [
    {
     "name": "stdout",
     "output_type": "stream",
     "text": [
      "19:05:45\n"
     ]
    }
   ],
   "source": [
    "from datetime import datetime\n",
    "\n",
    "def time_conversion(time_str):\n",
    "    # Parse the time string with the format '%I:%M:%S %p'\n",
    "    dt = datetime.strptime(time_str, '%I:%M:%S %p')\n",
    "    # Format the datetime object into a 24-hour format string\n",
    "    return dt.strftime('%H:%M:%S')\n",
    "\n",
    "#Test\n",
    "print(time_conversion(\"07:05:45 PM\"))"
   ]
  },
  {
   "cell_type": "markdown",
   "metadata": {},
   "source": [
    "Given an array of integers, where all elements but one occur twice, find the unique element. "
   ]
  },
  {
   "cell_type": "code",
   "execution_count": 22,
   "metadata": {},
   "outputs": [
    {
     "name": "stdout",
     "output_type": "stream",
     "text": [
      "2\n"
     ]
    }
   ],
   "source": [
    "def lonely_integer(arr):\n",
    "    # Initialize result\n",
    "    result = 0\n",
    "    # Traverse the array\n",
    "    for num in arr:\n",
    "        # Use XOR operation to find the unique number\n",
    "        result ^= num\n",
    "    return result\n",
    "\n",
    "#Test\n",
    "print(lonely_integer([2, 3, 5, 4, 5, 3, 4]))"
   ]
  }
 ],
 "metadata": {
  "kernelspec": {
   "display_name": "Python 3",
   "language": "python",
   "name": "python3"
  },
  "language_info": {
   "codemirror_mode": {
    "name": "ipython",
    "version": 3
   },
   "file_extension": ".py",
   "mimetype": "text/x-python",
   "name": "python",
   "nbconvert_exporter": "python",
   "pygments_lexer": "ipython3",
   "version": "3.12.2"
  }
 },
 "nbformat": 4,
 "nbformat_minor": 2
}
