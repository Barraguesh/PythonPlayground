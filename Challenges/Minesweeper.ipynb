{
 "cells": [
  {
   "cell_type": "markdown",
   "metadata": {},
   "source": [
    "# Minesweeper\n",
    "\n",
    "Given a height, width and number of bombs, create a board with said number of mines"
   ]
  },
  {
   "cell_type": "code",
   "execution_count": 5,
   "metadata": {},
   "outputs": [
    {
     "name": "stdout",
     "output_type": "stream",
     "text": [
      "[0, 0, 'B', 'B', 0]\n",
      "[0, 0, 0, 0, 0]\n",
      "[0, 0, 0, 0, 0]\n",
      "[0, 0, 'B', 0, 0]\n",
      "['B', 0, 0, 0, 'B']\n"
     ]
    }
   ],
   "source": [
    "import random\n",
    "\n",
    "def create_board(height, width, num_bombs):\n",
    "    # Initialize the board with all zeros\n",
    "    board = [[0 for _ in range(width)] for _ in range(height)]\n",
    "    \n",
    "    # Place the bombs\n",
    "    for _ in range(num_bombs):\n",
    "        bomb_placed = False\n",
    "        while not bomb_placed:\n",
    "            i = random.randint(0, height - 1)\n",
    "            j = random.randint(0, width - 1)\n",
    "            if board[i][j] == 0:  # If there's not already a bomb here\n",
    "                board[i][j] = 'B'  # Place a bomb\n",
    "                bomb_placed = True\n",
    "                \n",
    "    return board\n",
    "\n",
    "# Test the function\n",
    "height = 5\n",
    "width = 5\n",
    "num_bombs = 5\n",
    "board = create_board(height, width, num_bombs)\n",
    "for row in board:\n",
    "    print(row)\n"
   ]
  },
  {
   "cell_type": "markdown",
   "metadata": {},
   "source": [
    "Now, create another function that given the previously created board, will return it with the number warning system put in place."
   ]
  },
  {
   "cell_type": "code",
   "execution_count": null,
   "metadata": {},
   "outputs": [],
   "source": []
  }
 ],
 "metadata": {
  "kernelspec": {
   "display_name": "Python 3",
   "language": "python",
   "name": "python3"
  },
  "language_info": {
   "codemirror_mode": {
    "name": "ipython",
    "version": 3
   },
   "file_extension": ".py",
   "mimetype": "text/x-python",
   "name": "python",
   "nbconvert_exporter": "python",
   "pygments_lexer": "ipython3",
   "version": "3.12.2"
  }
 },
 "nbformat": 4,
 "nbformat_minor": 2
}
