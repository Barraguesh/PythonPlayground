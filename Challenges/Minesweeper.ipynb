{
 "cells": [
  {
   "cell_type": "markdown",
   "metadata": {},
   "source": [
    "# Minesweeper\n",
    "\n",
    "Given a height, width and number of bombs, create a board with said number of mines"
   ]
  },
  {
   "cell_type": "code",
   "execution_count": 3,
   "metadata": {},
   "outputs": [
    {
     "name": "stdout",
     "output_type": "stream",
     "text": [
      "[0, 0, 0, 0, 'B']\n",
      "['B', 'B', 0, 0, 'B']\n",
      "[0, 0, 0, 0, 0]\n",
      "[0, 0, 0, 0, 0]\n",
      "[0, 'B', 0, 0, 0]\n"
     ]
    }
   ],
   "source": [
    "import random\n",
    "\n",
    "def create_board(height, width, num_bombs):\n",
    "    # Initialize the board with all zeros\n",
    "    board = [[0 for _ in range(width)] for _ in range(height)]\n",
    "    \n",
    "    # Place the bombs\n",
    "    for _ in range(num_bombs):\n",
    "        bomb_placed = False\n",
    "        while not bomb_placed:\n",
    "            i = random.randint(0, height - 1)\n",
    "            j = random.randint(0, width - 1)\n",
    "            if board[i][j] == 0:  # If there's not already a bomb here\n",
    "                board[i][j] = 'B'  # Place a bomb\n",
    "                bomb_placed = True\n",
    "                \n",
    "    return board\n",
    "\n",
    "# Test the function\n",
    "height = 5\n",
    "width = 5\n",
    "num_bombs = 5\n",
    "board = create_board(height, width, num_bombs)\n",
    "for row in board:\n",
    "    print(row)"
   ]
  },
  {
   "cell_type": "markdown",
   "metadata": {},
   "source": [
    "Now, create another function that given the previously created board, will return it with the number warning system put in place."
   ]
  },
  {
   "cell_type": "code",
   "execution_count": 4,
   "metadata": {},
   "outputs": [
    {
     "name": "stdout",
     "output_type": "stream",
     "text": [
      "2 2 1 2 B\n",
      "B B 1 2 B\n",
      "2 2 1 1 1\n",
      "1 1 1 0 0\n",
      "1 B 1 0 0\n"
     ]
    }
   ],
   "source": [
    "def update_board(board):\n",
    "    height = len(board)\n",
    "    width = len(board[0])\n",
    "\n",
    "    # Calculate the numbers for all non-bomb cells\n",
    "    for i in range(height):\n",
    "        for j in range(width):\n",
    "            if board[i][j] != 'B':\n",
    "                board[i][j] = 0\n",
    "                for dx in [-1, 0, 1]:\n",
    "                    for dy in [-1, 0, 1]:\n",
    "                        ni, nj = i + dx, j + dy\n",
    "                        if 0 <= ni < height and 0 <= nj < width and board[ni][nj] == 'B':\n",
    "                            board[i][j] += 1\n",
    "\n",
    "    return board\n",
    "\n",
    "# Test the function with the previously created board\n",
    "board = update_board(board)\n",
    "for row in board:\n",
    "    print(' '.join(str(cell) for cell in row))"
   ]
  }
 ],
 "metadata": {
  "kernelspec": {
   "display_name": "Python 3",
   "language": "python",
   "name": "python3"
  },
  "language_info": {
   "codemirror_mode": {
    "name": "ipython",
    "version": 3
   },
   "file_extension": ".py",
   "mimetype": "text/x-python",
   "name": "python",
   "nbconvert_exporter": "python",
   "pygments_lexer": "ipython3",
   "version": "3.12.2"
  }
 },
 "nbformat": 4,
 "nbformat_minor": 2
}
